{
 "cells": [
  {
   "cell_type": "code",
   "execution_count": 1,
   "metadata": {},
   "outputs": [
    {
     "name": "stdout",
     "output_type": "stream",
     "text": [
      "Outliers using Z-Score Method: Series([], dtype: int64)\n",
      "Outliers using IQR Method: 0     10\n",
      "9    100\n",
      "dtype: int64\n"
     ]
    }
   ],
   "source": [
    "import numpy as np\n",
    "import pandas as pd\n",
    "from scipy import stats\n",
    "\n",
    "# Example data\n",
    "data = pd.Series([10, 12, 12, 13, 12, 14, 12, 13, 12, 100])\n",
    "\n",
    "# Z-Score Method\n",
    "z_scores = np.abs(stats.zscore(data))\n",
    "outliers_z = data[z_scores > 3]\n",
    "\n",
    "# IQR Method\n",
    "Q1 = data.quantile(0.25)\n",
    "Q3 = data.quantile(0.75)\n",
    "IQR = Q3 - Q1\n",
    "outliers_iqr = data[(data < (Q1 - 1.5 * IQR)) | (data > (Q3 + 1.5 * IQR))]\n",
    "\n",
    "print(\"Outliers using Z-Score Method:\", outliers_z)\n",
    "print(\"Outliers using IQR Method:\", outliers_iqr)"
   ]
  },
  {
   "cell_type": "code",
   "execution_count": 2,
   "metadata": {},
   "outputs": [
    {
     "data": {
      "image/png": "[encoded data removed]",
      "text/plain": [
       "<Figure size 1000x500 with 2 Axes>"
      ]
     },
     "metadata": {},
     "output_type": "display_data"
    }
   ],
   "source": [
    "import matplotlib.pyplot as plt\n",
    "\n",
    "# Box plot to detect outliers\n",
    "plt.figure(figsize=(10, 5))\n",
    "plt.subplot(1, 2, 1)\n",
    "plt.boxplot(data)\n",
    "plt.title('Box Plot')\n",
    "\n",
    "# Scatter plot to detect outliers\n",
    "plt.subplot(1, 2, 2)\n",
    "plt.scatter(range(len(data)), data)\n",
    "plt.axhline(y=Q1 - 1.5 * IQR, color='r', linestyle='--')\n",
    "plt.axhline(y=Q3 + 1.5 * IQR, color='r', linestyle='--')\n",
    "plt.title('Scatter Plot')\n",
    "plt.xlabel('Index')\n",
    "plt.ylabel('Value')\n",
    "\n",
    "plt.tight_layout()\n",
    "plt.show()"
   ]
  },
  {
   "cell_type": "markdown",
   "metadata": {},
   "source": [
    "The Z-Score method is a statistical technique used to identify outliers in a dataset. It measures the number of standard deviations a data point is from the mean of the dataset. Here's a step-by-step explanation:\n",
    "\n",
    "1. **Calculate the Mean and Standard Deviation**: Compute the mean (average) and standard deviation of the dataset.\n",
    "\n",
    "2. **Compute Z-Scores**: For each data point, calculate the Z-Score using the formula:\n",
    "      \\[\n",
    "      Z = \\frac{(X - \\mu)}{\\sigma}\n",
    "      \\]\n",
    "      where \\(X\\) is the data point, \\(\\mu\\) is the mean, and \\(\\sigma\\) is the standard deviation.\n",
    "\n",
    "3. **Identify Outliers**: Data points with a Z-Score greater than a certain threshold (commonly 3 or -3) are considered outliers. This threshold can be adjusted based on the specific requirements of the analysis.\n",
    "\n",
    "In this Jupyter Notebook, the Z-Score method was applied to the `data` series, and outliers were identified as follows:\n",
    "\n",
    "```python\n",
    "# Calculate Z-Scores\n",
    "z_scores = np.abs(stats.zscore(data))\n",
    "\n",
    "# Identify outliers\n",
    "outliers_z = data[z_scores > 3]\n",
    "```\n",
    "\n",
    "In this case, no outliers were detected using the Z-Score method, as indicated by the empty `outliers_z` series."
   ]
  }
 ],
 "metadata": {
  "kernelspec": {
   "display_name": "streamlit",
   "language": "python",
   "name": "python3"
  },
  "language_info": {
   "codemirror_mode": {
    "name": "ipython",
    "version": 3
   },
   "file_extension": ".py",
   "mimetype": "text/x-python",
   "name": "python",
   "nbconvert_exporter": "python",
   "pygments_lexer": "ipython3",
   "version": "3.11.11"
  }
 },
 "nbformat": 4,
 "nbformat_minor": 2
}
